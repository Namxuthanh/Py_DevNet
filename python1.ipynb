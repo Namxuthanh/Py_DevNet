{
 "cells": [
  {
   "cell_type": "code",
   "execution_count": 4,
   "metadata": {},
   "outputs": [
    {
     "name": "stdout",
     "output_type": "stream",
     "text": [
      "Xin chao Nam, tuoi ban là 24\n"
     ]
    }
   ],
   "source": [
    "name = 'Nam'\n",
    "tuoi = 24\n",
    "intro = \"Xin chao {}, tuoi ban là {}\".format(name,tuoi)\n",
    "print(intro)"
   ]
  },
  {
   "cell_type": "code",
   "execution_count": 7,
   "metadata": {},
   "outputs": [
    {
     "ename": "SyntaxError",
     "evalue": "unterminated string literal (detected at line 7) (554268542.py, line 7)",
     "output_type": "error",
     "traceback": [
      "\u001b[0;36m  Cell \u001b[0;32mIn[7], line 7\u001b[0;36m\u001b[0m\n\u001b[0;31m    print(r'helo'haha')\u001b[0m\n\u001b[0m                     ^\u001b[0m\n\u001b[0;31mSyntaxError\u001b[0m\u001b[0;31m:\u001b[0m unterminated string literal (detected at line 7)\n"
     ]
    }
   ],
   "source": [
    "router_id = '1.1.1.1'\n",
    "port = 'Eth1/9'\n",
    "\n",
    "config = f\"\"\" router-id {router_id}\n",
    "interface {port}\"\"\"\n",
    "print(config)\n",
    "print(r'helo\\'haha')"
   ]
  }
 ],
 "metadata": {
  "kernelspec": {
   "display_name": "Python 3",
   "language": "python",
   "name": "python3"
  },
  "language_info": {
   "codemirror_mode": {
    "name": "ipython",
    "version": 3
   },
   "file_extension": ".py",
   "mimetype": "text/x-python",
   "name": "python",
   "nbconvert_exporter": "python",
   "pygments_lexer": "ipython3",
   "version": "3.10.7"
  },
  "orig_nbformat": 4
 },
 "nbformat": 4,
 "nbformat_minor": 2
}
